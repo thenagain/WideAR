{
 "cells": [
  {
   "cell_type": "markdown",
   "metadata": {},
   "source": [
    "# Import"
   ]
  },
  {
   "cell_type": "code",
   "execution_count": null,
   "metadata": {},
   "outputs": [],
   "source": [
    "import cv2\n",
    "import os\n",
    "import random"
   ]
  },
  {
   "cell_type": "markdown",
   "metadata": {},
   "source": [
    "# Define Function\n",
    "These function makes 3 types of dataset from a video file."
   ]
  },
  {
   "cell_type": "markdown",
   "metadata": {},
   "source": [
    "## make_train_n_test\n",
    "* Training dataset (train)\n",
    "* Test dataset (test)"
   ]
  },
  {
   "cell_type": "code",
   "execution_count": null,
   "metadata": {},
   "outputs": [],
   "source": [
    "def make_train_n_test(path_input_video, path_dir_dataset):\n",
    "    \n",
    "    input_video = cv2.VideoCapture(path_input_video)\n",
    "    \n",
    "    if not input_video.isOpened():\n",
    "        print(\"Input video can not be opened\")\n",
    "        return\n",
    "\n",
    "    try:\n",
    "        os.makedirs(\"{}/train\".format(path_dir_dataset))\n",
    "        os.makedirs(\"{}/test\".format(path_dir_dataset))\n",
    "\n",
    "    except FileExistsError:\n",
    "        print(\"Directory of dataset must be empty at first\")\n",
    "    \n",
    "    BASENAME = \"frame\"\n",
    "    DIGIT = len(str(int(input_video.get(cv2.CAP_PROP_FRAME_COUNT))))\n",
    "    WIDTH = 256\n",
    "    HEIGHT = 256\n",
    "    PATH_MASK_IMG = \"img/mask.jpg\"\n",
    "    PATH_BLACK_IMG = \"img/black.jpg\"\n",
    "    IMG_EXT = \"jpg\"\n",
    "    RATIO_TRAIN_TO_TEST = 5\n",
    "    \n",
    "    num_frame = 0\n",
    "    \n",
    "    while True:\n",
    "        ret, frame = input_video.read()\n",
    "        if ret:\n",
    "            resized_img = cv2.resize(frame, (WIDTH, HEIGHT), interpolation=cv2.INTER_AREA)\n",
    "            \n",
    "            mask_img = cv2.imread(PATH_MASK_IMG)\n",
    "            mask_img = cv2.resize(mask_img, (WIDTH, HEIGHT), interpolation=cv2.INTER_NEAREST)\n",
    "            \n",
    "            masked_img = cv2.bitwise_and(resized_img, mask_img)\n",
    "            \n",
    "            joint_img = cv2.hconcat([resized_img, masked_img])\n",
    "            \n",
    "            if random.randrange(RATIO_TRAIN_TO_TEST) == 0:\n",
    "                cv2.imwrite(\"{}/test/{}_{}.{}\".format(path_dir_dataset, BASENAME, str(num_frame).zfill(DIGIT), IMG_EXT), joint_img)\n",
    "            else:\n",
    "                cv2.imwrite(\"{}/train/{}_{}.{}\".format(path_dir_dataset, BASENAME, str(num_frame).zfill(DIGIT), IMG_EXT), joint_img)\n",
    "                \n",
    "            black_img = cv2.imread(PATH_BLACK_IMG)\n",
    "            black_img = cv2.resize(black_img, (WIDTH, HEIGHT), interpolation=cv2.INTER_NEAREST)\n",
    "            \n",
    "            joint_img = cv2.hconcat([black_img, masked_img])\n",
    "            \n",
    "            cv2.imwrite(\"{}/val/{}_{}.{}\".format(path_dir_dataset, BASENAME, str(num_frame).zfill(DIGIT), IMG_EXT), joint_img)\n",
    "            \n",
    "            num_frame += 1\n",
    "            \n",
    "        else:\n",
    "            break"
   ]
  },
  {
   "cell_type": "markdown",
   "metadata": {},
   "source": [
    "## make_val\n",
    "*Validation dataset (val)"
   ]
  },
  {
   "cell_type": "code",
   "execution_count": null,
   "metadata": {},
   "outputs": [],
   "source": [
    "def make_val(path_input_video, path_dir_dataset):\n",
    "    \n",
    "    input_video = cv2.VideoCapture(path_input_video)\n",
    "    \n",
    "    if not input_video.isOpened():\n",
    "        print(\"Input video can not be opened\")\n",
    "        return\n",
    "\n",
    "    try:\n",
    "        os.makedirs(\"{}/val\".format(path_dir_dataset))\n",
    "\n",
    "    except FileExistsError:\n",
    "        print(\"Directory of dataset must be empty at first\")\n",
    "        \n",
    "    BASENAME = \"frame\"\n",
    "    DIGIT = len(str(int(input_video.get(cv2.CAP_PROP_FRAME_COUNT))))\n",
    "    WIDTH = 256\n",
    "    HEIGHT = 256\n",
    "    PATH_MASK_IMG = \"img/mask.jpg\"\n",
    "    PATH_BLACK_IMG = \"img/black.jpg\"\n",
    "    IMG_EXT = \"jpg\"\n",
    "    RATIO_TRAIN_TO_TEST = 5\n",
    "    \n",
    "    num_frame = 0\n",
    "\n",
    "    while True:\n",
    "        ret, frame = input_video.read()\n",
    "        if ret:\n",
    "            resized_img = cv2.resize(frame, (WIDTH, HEIGHT), interpolation=cv2.INTER_AREA)\n",
    "            \n",
    "            mask_img = cv2.imread(PATH_MASK_IMG)\n",
    "            mask_img = cv2.resize(mask_img, (WIDTH, HEIGHT), interpolation=cv2.INTER_NEAREST)\n",
    "            \n",
    "            masked_img = cv2.bitwise_and(resized_img, mask_img)\n",
    "            \n",
    "            black_img = cv2.imread(PATH_BLACK_IMG)\n",
    "            black_img = cv2.resize(black_img, (WIDTH, HEIGHT), interpolation=cv2.INTER_NEAREST)\n",
    "            \n",
    "            joint_img = cv2.hconcat([black_img, masked_img])\n",
    "            \n",
    "            cv2.imwrite(\"{}/val/{}_{}.{}\".format(path_dir_dataset, BASENAME, str(num_frame).zfill(DIGIT), IMG_EXT), joint_img)\n",
    "            \n",
    "            num_frame += 1\n",
    "            \n",
    "        else:\n",
    "            break"
   ]
  },
  {
   "cell_type": "markdown",
   "metadata": {},
   "source": [
    "# Make Dataset Using Function"
   ]
  },
  {
   "cell_type": "code",
   "execution_count": null,
   "metadata": {},
   "outputs": [],
   "source": [
    "make_train_n_test('learning.mp4', 'dir_dataset')"
   ]
  },
  {
   "cell_type": "code",
   "execution_count": null,
   "metadata": {},
   "outputs": [],
   "source": [
    "make_val('target.mp4', 'dir_dataset')"
   ]
  }
 ],
 "metadata": {
  "kernelspec": {
   "display_name": "Python 3",
   "language": "python",
   "name": "python3"
  },
  "language_info": {
   "codemirror_mode": {
    "name": "ipython",
    "version": 3
   },
   "file_extension": ".py",
   "mimetype": "text/x-python",
   "name": "python",
   "nbconvert_exporter": "python",
   "pygments_lexer": "ipython3",
   "version": "3.7.2"
  }
 },
 "nbformat": 4,
 "nbformat_minor": 2
}
